{
 "cells": [
  {
   "cell_type": "markdown",
   "id": "aa20109a",
   "metadata": {},
   "source": [
    "3. Utilice las clases creadas para construir un modelo de predicción para el problema de diabetes de Sklearn. Cumpla además los siguientes requisitos:\n",
    "\n",
    "a) Solo puede trabajar con los 5 atributos más relevantes según PearsonmRMR.\n",
    "\n",
    "b) Deberá de construirse un pipeline que incluya la normalización de los datos, selección de atributos y el modelo de KNN regresión.\n",
    "\n",
    "c) Utilice validación cruzada con 3 folds para elegir el mejor valor de k entre los valores {1, 3, 5, 7, 15}.\n",
    "\n",
    "d) Deberá reportar el error cuadrático medio (MSE) estimado"
   ]
  },
  {
   "cell_type": "code",
   "execution_count": 1,
   "id": "99cce646",
   "metadata": {},
   "outputs": [],
   "source": [
    "from sklearn.datasets import load_diabetes\n",
    "data = load_diabetes()"
   ]
  },
  {
   "cell_type": "code",
   "execution_count": 2,
   "id": "ad7c06f9",
   "metadata": {},
   "outputs": [],
   "source": [
    "from sklearn.model_selection import train_test_split\n",
    "from sklearn.preprocessing import MinMaxScaler\n",
    "\n",
    "# (1) Separar atributos de las etiquetas\n",
    "X, y = data.data, data.target\n",
    "\n",
    "# (2) Dividir en train/test\n",
    "X_train, X_test, y_train, y_test = train_test_split(\n",
    "    X, y, test_size=0.5, random_state=42\n",
    ")"
   ]
  },
  {
   "cell_type": "code",
   "execution_count": 3,
   "id": "b67e2a28",
   "metadata": {},
   "outputs": [
    {
     "name": "stderr",
     "output_type": "stream",
     "text": [
      "/Library/Frameworks/Python.framework/Versions/3.13/lib/python3.13/site-packages/sklearn/model_selection/_split.py:784: UserWarning: The number of unique classes is greater than 50% of the number of samples. `y` could represent a regression problem, not a classification problem.\n",
      "  type_of_target_y = type_of_target(y)\n",
      "/Library/Frameworks/Python.framework/Versions/3.13/lib/python3.13/site-packages/sklearn/model_selection/_split.py:811: UserWarning: The least populated class in y has only 1 members, which is less than n_splits=3.\n",
      "  warnings.warn(\n"
     ]
    },
    {
     "name": "stdout",
     "output_type": "stream",
     "text": [
      "Mejor K: 5\n",
      "MSE CV: 3330.30, MSE Test: 3026.28\n"
     ]
    }
   ],
   "source": [
    "import warnings\n",
    "warnings.filterwarnings(\"ignore\", category=FutureWarning)\n",
    "\n",
    "from sklearn.metrics import mean_squared_error\n",
    "from sklearn.model_selection import StratifiedKFold, GridSearchCV\n",
    "from sklearn.pipeline import Pipeline\n",
    "import pandas as pd\n",
    "from PearsonmRMR import PearsonmRMR\n",
    "from KNNRegression import KNNRegressor\n",
    "\n",
    "resultados = []\n",
    "k = 5\n",
    "\n",
    "pipe = Pipeline([\n",
    "    ('select', PearsonmRMR(n_features=k)),\n",
    "    ('scaler', MinMaxScaler()),\n",
    "    ('knn', KNNRegressor())\n",
    "])\n",
    "\n",
    "param_grid = {'select__n_features': [5],\n",
    "              'knn__k': [3, 5, 7, 9, 11, 13, 15]}\n",
    "cv = StratifiedKFold(n_splits=3, shuffle=True, random_state=42)\n",
    "\n",
    "gridK = GridSearchCV(pipe, param_grid, cv=cv, scoring='neg_mean_squared_error', n_jobs=-1)\n",
    "gridK.fit(X_train, y_train)\n",
    "\n",
    "best_K = gridK.best_params_['select__n_features']\n",
    "print(f\"Mejor K: {best_K}\")\n",
    "best_k = gridK.best_params_['knn__k']\n",
    "mse_cv = -gridK.best_score_  # positivo CV\n",
    "y_pred_test = gridK.best_estimator_.predict(X_test)\n",
    "mse_test = mean_squared_error(y_test, y_pred_test)\n",
    "\n",
    "print(f\"MSE CV: {mse_cv:.2f}, MSE Test: {mse_test:.2f}\")"
   ]
  }
 ],
 "metadata": {
  "kernelspec": {
   "display_name": "Python 3",
   "language": "python",
   "name": "python3"
  },
  "language_info": {
   "codemirror_mode": {
    "name": "ipython",
    "version": 3
   },
   "file_extension": ".py",
   "mimetype": "text/x-python",
   "name": "python",
   "nbconvert_exporter": "python",
   "pygments_lexer": "ipython3",
   "version": "3.13.7"
  }
 },
 "nbformat": 4,
 "nbformat_minor": 5
}
